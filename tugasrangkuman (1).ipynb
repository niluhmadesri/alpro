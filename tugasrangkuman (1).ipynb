{
 "cells": [
  {
   "cell_type": "markdown",
   "id": "10c9bcac-db9a-4dc8-80bb-a3692bb48065",
   "metadata": {},
   "source": [
    "# NAMA : NI LUH MADE SRI UTAMI PRADNYANDARI \n",
    "# NIM  : 103102400055\n",
    "# KELAS: DS04-2"
   ]
  },
  {
   "cell_type": "markdown",
   "id": "40efa524-5fc7-4dd2-8a0a-eb293f3ff0c9",
   "metadata": {},
   "source": [
    "# Rangkuman Mata Kuliah Pemrograman Python\n",
    "\n",
    "## 1. Tipe Data\n",
    "### Tipe Data Numerik\n",
    "a. Integer (int) untuk menyimpan bilangan bulat "
   ]
  },
  {
   "cell_type": "code",
   "execution_count": 3,
   "id": "02a5a5d4-612a-4539-a72f-dcb15178224f",
   "metadata": {},
   "outputs": [
    {
     "name": "stdout",
     "output_type": "stream",
     "text": [
      "contoh:\n"
     ]
    },
    {
     "name": "stdin",
     "output_type": "stream",
     "text": [
      "masukkan bilangan : 2\n"
     ]
    },
    {
     "name": "stdout",
     "output_type": "stream",
     "text": [
      "ini adalah bilangan bulat 2\n"
     ]
    }
   ],
   "source": [
    "print(\"contoh:\")\n",
    "\n",
    "#tipe data int\n",
    "number=int(input(\"masukkan bilangan :\"))\n",
    "print(\"ini adalah bilangan bulat\", number)"
   ]
  },
  {
   "cell_type": "markdown",
   "id": "d1be7ed1-d863-41ef-aa72-07de73d3a135",
   "metadata": {},
   "source": [
    "b. Float (float) untuk menyimpan bilangan desimal"
   ]
  },
  {
   "cell_type": "code",
   "execution_count": 10,
   "id": "353ea541-f3a9-49cd-b65c-50c2f627430e",
   "metadata": {},
   "outputs": [
    {
     "name": "stdout",
     "output_type": "stream",
     "text": [
      "contoh:\n"
     ]
    },
    {
     "name": "stdin",
     "output_type": "stream",
     "text": [
      "masukkan bilangan desimal: 1.6\n"
     ]
    },
    {
     "name": "stdout",
     "output_type": "stream",
     "text": [
      "ini adalah bilangan desimal 1.6\n"
     ]
    }
   ],
   "source": [
    "print(\"contoh:\")\n",
    "#tipe data float\n",
    "number=float(input(\"masukkan bilangan desimal:\"))\n",
    "print(\"ini adalah bilangan desimal\",number)"
   ]
  },
  {
   "cell_type": "markdown",
   "id": "082f9658-7e62-4e85-80ce-b8cec404a564",
   "metadata": {},
   "source": [
    "### Tipe Data Text atau String (str) untuk menyimpan teks atau kumpulan karakter "
   ]
  },
  {
   "cell_type": "code",
   "execution_count": 13,
   "id": "2821d151-24d0-42f8-bd18-df934f0796f9",
   "metadata": {},
   "outputs": [
    {
     "name": "stdout",
     "output_type": "stream",
     "text": [
      "<class 'str'>\n"
     ]
    },
    {
     "name": "stdin",
     "output_type": "stream",
     "text": [
      "masukkan nama: ode\n",
      "masukkan umur 19\n"
     ]
    },
    {
     "name": "stdout",
     "output_type": "stream",
     "text": [
      "Selamat Ulang tahun ode ke 19\n"
     ]
    }
   ],
   "source": [
    "text = \"Hello, Python!\"\n",
    "print(type(text))  \n",
    "#tipe data string\n",
    "#mengucapkan selamat ulang tahun\n",
    "\n",
    "name=input(\"masukkan nama:\")\n",
    "umur=input(\"masukkan umur\")\n",
    "\n",
    "print(\"Selamat Ulang tahun\", name + \" ke\", umur)"
   ]
  },
  {
   "cell_type": "markdown",
   "id": "6f5ba889-fc90-437e-a5e4-a29c998f2ded",
   "metadata": {},
   "source": [
    "\n",
    "### Tipe Data Boolean untuk menyimpan nilai True atau False"
   ]
  },
  {
   "cell_type": "code",
   "execution_count": 20,
   "id": "5cac26d8-901b-443c-bb90-e681d7bd4836",
   "metadata": {},
   "outputs": [
    {
     "name": "stdout",
     "output_type": "stream",
     "text": [
      "<class 'bool'>\n"
     ]
    },
    {
     "name": "stdin",
     "output_type": "stream",
     "text": [
      "Masukkan sebuah bilangan:  2\n"
     ]
    },
    {
     "name": "stdout",
     "output_type": "stream",
     "text": [
      "Bilangan 2 adalah genap.\n"
     ]
    }
   ],
   "source": [
    "is_active = True\n",
    "print(type(is_active))  # Output: <class 'bool'>\n",
    "# Input bilangan dari pengguna\n",
    "number = int(input(\"Masukkan sebuah bilangan: \"))\n",
    "\n",
    "# Operasi boolean untuk mengecek genap\n",
    "is_even = (number % 2 == 0)\n",
    "\n",
    "# Output hasil\n",
    "if is_even:\n",
    "    print(f\"Bilangan {number} adalah genap.\")\n",
    "else:\n",
    "    print(f\"Bilangan {number} adalah ganjil.\")\n"
   ]
  },
  {
   "cell_type": "markdown",
   "id": "abfb27dc-5964-4b00-9339-1f40f51d7686",
   "metadata": {},
   "source": [
    "### Tipe Data List \n",
    "(list) kumpulan data yang terurut, bisa berubah, dan mendukung berbagai tipe data"
   ]
  },
  {
   "cell_type": "code",
   "execution_count": 27,
   "id": "5c0b26b1-891f-4e70-8480-d36309c02748",
   "metadata": {},
   "outputs": [
    {
     "name": "stdout",
     "output_type": "stream",
     "text": [
      "<class 'list'>\n",
      "Daftar belanja awal: ['Telur', 'Susu', 'Roti', 'Keju']\n",
      "Setelah menambahkan Mentega: ['Telur', 'Susu', 'Roti', 'Keju', 'Mentega']\n",
      "Setelah menghapus Roti: ['Telur', 'Susu', 'Keju', 'Mentega']\n",
      "Item pertama di daftar: Telur\n",
      "Daftar belanja setelah diurutkan: ['Keju', 'Mentega', 'Susu', 'Telur']\n"
     ]
    }
   ],
   "source": [
    "fruits = [\"apple\", \"banana\", \"cherry\"]\n",
    "print(type(fruits))  # Output: <class 'list'>\n",
    "# Membuat daftar belanja\n",
    "shopping_list = [\"Telur\", \"Susu\", \"Roti\", \"Keju\"]\n",
    "\n",
    "# Menampilkan daftar belanja\n",
    "print(\"Daftar belanja awal:\", shopping_list)\n",
    "\n",
    "# Menambahkan item ke daftar\n",
    "shopping_list.append(\"Mentega\")\n",
    "print(\"Setelah menambahkan Mentega:\", shopping_list)\n",
    "\n",
    "# Menghapus item dari daftar\n",
    "shopping_list.remove(\"Roti\")\n",
    "print(\"Setelah menghapus Roti:\", shopping_list)\n",
    "\n",
    "# Menampilkan item tertentu\n",
    "print(\"Item pertama di daftar:\", shopping_list[0])\n",
    "\n",
    "# Mengurutkan daftar secara alfabetis\n",
    "shopping_list.sort()\n",
    "print(\"Daftar belanja setelah diurutkan:\", shopping_list)\n"
   ]
  },
  {
   "cell_type": "code",
   "execution_count": 36,
   "id": "e99739b1-c7bb-485a-a29c-d739bd00d11f",
   "metadata": {},
   "outputs": [
    {
     "name": "stdout",
     "output_type": "stream",
     "text": [
      "[1, 2, 3, 4, 7]\n",
      "21\n"
     ]
    }
   ],
   "source": [
    "#append untuk menambahkan element ke list\n",
    "list=[1,2,3,4]\n",
    "list.append(7)\n",
    "print(list)\n",
    "\n",
    "#len untuk menghitung panjang  list\n",
    "list=(1,2,3,4,56,7,89,97,5,3,23,455,6,7,754,33,4,34567,6,7,8,)\n",
    "panjang=len(list)\n",
    "print(panjang)"
   ]
  },
  {
   "cell_type": "markdown",
   "id": "96d608cc-39de-46ec-b347-0c327477d1ba",
   "metadata": {},
   "source": [
    "### 2. Operasi Sederhana "
   ]
  },
  {
   "cell_type": "code",
   "execution_count": 34,
   "id": "8ed1823c-e11d-4492-80ee-a07798aabb82",
   "metadata": {},
   "outputs": [
    {
     "name": "stdin",
     "output_type": "stream",
     "text": [
      "Masukkan bilangan pertama:  4\n",
      "Masukkan bilangan kedua:  8\n"
     ]
    },
    {
     "name": "stdout",
     "output_type": "stream",
     "text": [
      "Hasil Penjumlahan: 12\n",
      "Hasil Pengurangan: -4\n",
      "Hasil Perkalian: 32\n",
      "Hasil Pembagian: 0.50\n",
      "Hasil Modulus: 4\n",
      "Persentase: 50.00%\n"
     ]
    }
   ],
   "source": [
    "# Input angka dari pengguna\r\n",
    "a = int(input(\"Masukkan bilangan pertama: \"))\r\n",
    "b = int(input(\"Masukkan bilangan kedua: \"))\r\n",
    "\r\n",
    "# Operasi aritmatika\r\n",
    "penjumlahan = a + b\r\n",
    "pengurangan = a - b\r\n",
    "perkalian = a * b\r\n",
    "pembagian = a / b\r\n",
    "modulus = a % b\r\n",
    "persentase = (a / b) * 100\r\n",
    "\r\n",
    "# Output hasil\r\n",
    "print(f\"Hasil Penjumlahan: {penjumlahan}\")\r\n",
    "print(f\"Hasil Pengurangan: {pengurangan}\")\r\n",
    "print(f\"Hasil Perkalian: {perkalian}\")\r\n",
    "print(f\"Hasil Pembagian: {pembagian:.2f}\")\r\n",
    "print(f\"Hasil Modulus: {modulus}\")\r\n",
    "print(f\"Persentase: {persentase:.2f}%\")\r\n"
   ]
  },
  {
   "cell_type": "code",
   "execution_count": 42,
   "id": "6a929cb1-d504-4567-bb6a-6e97f1964dc3",
   "metadata": {},
   "outputs": [
    {
     "name": "stdin",
     "output_type": "stream",
     "text": [
      "masukkan nilai a: 2\n",
      "masukkan nilai b: -5\n",
      "masukkan nilai c: 3\n"
     ]
    },
    {
     "name": "stdout",
     "output_type": "stream",
     "text": [
      "1.5 1.0\n"
     ]
    }
   ],
   "source": [
    "import math\n",
    "a=int(input(\"masukkan nilai a:\"))\n",
    "b=int(input(\"masukkan nilai b:\"))\n",
    "c=int(input(\"masukkan nilai c:\"))\n",
    "diskriminan=(b**2)-(4*a*c)\n",
    "\n",
    "x1=(-b + math.sqrt(diskriminan)) / (2*a)\n",
    "x2=(-b - math.sqrt(diskriminan)) / (2*a)\n",
    "\n",
    "print(x1,x2)"
   ]
  },
  {
   "cell_type": "markdown",
   "id": "6fe84419-256b-4e4e-903b-11b4ba444283",
   "metadata": {},
   "source": [
    "## 3. Perulangan "
   ]
  },
  {
   "cell_type": "markdown",
   "id": "22834c86-ba54-4c01-90fc-1d50ed0cee13",
   "metadata": {},
   "source": [
    "Perulangan atau looping adalah cara untuk menjalankan suatu blok kode berulang kali selama kondisi tertentu terpenuhi. Ini sangat berguna untuk tugas yang berulang atau ketika Anda perlu memproses data dalam jumlah besar secara otomatis.\n",
    "contoh : menampilkan bilangan 1 sampai 5\n",
    "\n",
    "a. for loop yaitu perulangan yang digunakan untuk mengiterasi melalui koleksi data seperti list, string, atau range."
   ]
  },
  {
   "cell_type": "markdown",
   "id": "f86750d3-c83f-4c6e-a0d3-fc3eb42c5840",
   "metadata": {},
   "source": [
    "for i in range(1, 6):\n",
    "    print(f\"Bilangan ke-{i}\")"
   ]
  },
  {
   "cell_type": "code",
   "execution_count": 52,
   "id": "2df55a8a-de65-414b-850a-3d59c7a44410",
   "metadata": {},
   "outputs": [
    {
     "name": "stdout",
     "output_type": "stream",
     "text": [
      "0\n",
      "1\n",
      "2\n",
      "3\n",
      "4\n"
     ]
    }
   ],
   "source": [
    "for i in range(5):\n",
    "    print(i)"
   ]
  },
  {
   "cell_type": "code",
   "execution_count": 54,
   "id": "43ff8f76-f6e1-40fd-9abd-a31be1349111",
   "metadata": {},
   "outputs": [
    {
     "name": "stdout",
     "output_type": "stream",
     "text": [
      "5\n",
      "6\n",
      "7\n",
      "8\n",
      "9\n",
      "10\n",
      "11\n",
      "12\n",
      "13\n",
      "14\n",
      "15\n",
      "16\n",
      "17\n",
      "18\n",
      "19\n",
      "20\n",
      "21\n",
      "22\n",
      "23\n",
      "24\n",
      "25\n",
      "26\n",
      "27\n",
      "28\n",
      "29\n",
      "30\n",
      "31\n",
      "32\n",
      "33\n",
      "34\n",
      "35\n",
      "36\n",
      "37\n",
      "38\n",
      "39\n",
      "40\n",
      "41\n",
      "42\n",
      "43\n",
      "44\n",
      "45\n",
      "46\n",
      "47\n",
      "48\n",
      "49\n",
      "50\n",
      "51\n",
      "52\n",
      "53\n",
      "54\n",
      "55\n",
      "56\n",
      "57\n",
      "58\n",
      "59\n",
      "60\n",
      "61\n",
      "62\n",
      "63\n",
      "64\n",
      "65\n",
      "66\n",
      "67\n",
      "68\n",
      "69\n",
      "70\n",
      "71\n",
      "72\n",
      "73\n",
      "74\n",
      "75\n",
      "76\n",
      "77\n",
      "78\n",
      "79\n",
      "80\n",
      "81\n",
      "82\n",
      "83\n",
      "84\n",
      "85\n",
      "86\n",
      "87\n",
      "88\n",
      "89\n",
      "90\n",
      "91\n",
      "92\n",
      "93\n",
      "94\n",
      "95\n",
      "96\n",
      "97\n",
      "98\n",
      "99\n",
      "100\n",
      "101\n",
      "102\n",
      "103\n",
      "104\n",
      "105\n",
      "106\n",
      "107\n",
      "108\n",
      "109\n",
      "110\n",
      "111\n",
      "112\n",
      "113\n",
      "114\n",
      "115\n",
      "116\n",
      "117\n",
      "118\n",
      "119\n",
      "120\n",
      "121\n",
      "122\n",
      "123\n",
      "124\n",
      "125\n",
      "126\n",
      "127\n",
      "128\n",
      "129\n",
      "130\n",
      "131\n",
      "132\n",
      "133\n",
      "134\n",
      "135\n",
      "136\n",
      "137\n",
      "138\n",
      "139\n",
      "140\n",
      "141\n",
      "142\n",
      "143\n",
      "144\n",
      "145\n",
      "146\n",
      "147\n",
      "148\n",
      "149\n",
      "150\n",
      "151\n",
      "152\n",
      "153\n",
      "154\n",
      "155\n",
      "156\n",
      "157\n",
      "158\n",
      "159\n",
      "160\n",
      "161\n",
      "162\n",
      "163\n",
      "164\n",
      "165\n",
      "166\n",
      "167\n",
      "168\n",
      "169\n",
      "170\n",
      "171\n",
      "172\n",
      "173\n",
      "174\n",
      "175\n",
      "176\n",
      "177\n",
      "178\n",
      "179\n",
      "180\n",
      "181\n",
      "182\n",
      "183\n",
      "184\n",
      "185\n",
      "186\n",
      "187\n",
      "188\n",
      "189\n",
      "190\n",
      "191\n",
      "192\n",
      "193\n",
      "194\n",
      "195\n",
      "196\n",
      "197\n",
      "198\n",
      "199\n"
     ]
    }
   ],
   "source": [
    "#range(start, stop)\n",
    "for i in range(5,200):\n",
    "    print(i)"
   ]
  },
  {
   "cell_type": "code",
   "execution_count": 56,
   "id": "df1e3268-6437-452b-adbd-56c3b83d0e03",
   "metadata": {},
   "outputs": [
    {
     "name": "stdout",
     "output_type": "stream",
     "text": [
      "2\n",
      "5\n",
      "8\n",
      "11\n",
      "14\n",
      "17\n",
      "20\n",
      "23\n",
      "26\n",
      "29\n",
      "32\n",
      "35\n",
      "38\n",
      "41\n",
      "44\n",
      "47\n",
      "50\n",
      "53\n",
      "56\n",
      "59\n",
      "62\n",
      "65\n",
      "68\n"
     ]
    }
   ],
   "source": [
    "#range (start, stop, step)\n",
    "for i in range(2,70,3):\n",
    "    print(i)"
   ]
  },
  {
   "cell_type": "code",
   "execution_count": 58,
   "id": "4e9ebed1-223c-4d43-9ec2-28f399435fa3",
   "metadata": {},
   "outputs": [
    {
     "name": "stdin",
     "output_type": "stream",
     "text": [
      "masukkan angka 6\n",
      "masukkan angka 8\n",
      "masukkan angka 9\n",
      "masukkan angka 6\n",
      "masukkan angka 4\n",
      "masukkan angka 0\n",
      "masukkan angka 8\n",
      "masukkan angka 6\n",
      "masukkan angka 5\n"
     ]
    },
    {
     "name": "stdout",
     "output_type": "stream",
     "text": [
      "hasil data [6, 8, 9, 6, 4, 0, 8, 6, 5]\n"
     ]
    }
   ],
   "source": [
    "#append untuk memasukkan elemen\n",
    "x=[]\n",
    "for i in range(9):\n",
    "    x.append(int(input(\"masukkan angka\")))\n",
    "print(\"hasil data\", x)"
   ]
  },
  {
   "cell_type": "code",
   "execution_count": 60,
   "id": "b1f4b36d-d302-44c0-99b9-8e603d1b56a5",
   "metadata": {},
   "outputs": [
    {
     "name": "stdout",
     "output_type": "stream",
     "text": [
      "p\n",
      "i\n",
      "n\n",
      "e\n",
      "a\n",
      "p\n",
      "p\n",
      "l\n",
      "e\n"
     ]
    }
   ],
   "source": [
    "for i in (\"pineapple\"):\n",
    "    print(i)"
   ]
  },
  {
   "cell_type": "code",
   "execution_count": 62,
   "id": "ac61928f-6736-4eaa-9be2-bebf5abb6a76",
   "metadata": {},
   "outputs": [
    {
     "name": "stdout",
     "output_type": "stream",
     "text": [
      "utara\n",
      "timur\n",
      "selatan\n",
      "barat\n"
     ]
    }
   ],
   "source": [
    "arah_mata_angin=[\"utara\", \"timur\", \"selatan\", \"barat\"]\n",
    "for i in arah_mata_angin:\n",
    "    print(i)"
   ]
  },
  {
   "cell_type": "code",
   "execution_count": 64,
   "id": "6a2524e4-45b3-40c8-a96e-e0e5b6885ec7",
   "metadata": {},
   "outputs": [
    {
     "name": "stdout",
     "output_type": "stream",
     "text": [
      "jumlah penjumlahan dari angka 1 sampai 20 adalah 19\n"
     ]
    }
   ],
   "source": [
    "jumlah=0\n",
    "for i in range(1,20):\n",
    "    jumlah=jumlah+1\n",
    "    \n",
    "print(\"jumlah penjumlahan dari angka 1 sampai 20 adalah\", jumlah)\n",
    "    \n",
    "    "
   ]
  },
  {
   "cell_type": "code",
   "execution_count": 66,
   "id": "7caf6b7a-c067-4887-90b0-84cb03e58fed",
   "metadata": {},
   "outputs": [
    {
     "name": "stdin",
     "output_type": "stream",
     "text": [
      "masukkan angka 6\n",
      "masukkan angka 7\n",
      "masukkan angka 8\n",
      "masukkan angka 9\n",
      "masukkan angka 4\n"
     ]
    },
    {
     "name": "stdout",
     "output_type": "stream",
     "text": [
      "hasil data: [6, 7, 8, 9, 4]\n"
     ]
    }
   ],
   "source": [
    "x=[]\n",
    "for i in range(5):\n",
    "    x.append(int(input(\"masukkan angka\")))\n",
    "\n",
    "print(\"hasil data:\", x)"
   ]
  },
  {
   "cell_type": "code",
   "execution_count": 68,
   "id": "1b84d6da-e63e-42c6-9b55-4020029b03b6",
   "metadata": {},
   "outputs": [
    {
     "name": "stdin",
     "output_type": "stream",
     "text": [
      "masukkan jumlah baris: 6\n"
     ]
    },
    {
     "name": "stdout",
     "output_type": "stream",
     "text": [
      "*  \n",
      "*  *  \n",
      "*  *  *  \n",
      "*  *  *  *  \n",
      "*  *  *  *  *  \n",
      "*  *  *  *  *  *  \n"
     ]
    }
   ],
   "source": [
    "n=int(input(\"masukkan jumlah baris:\"))\n",
    "for i in range (n):\n",
    "    for j in range (i+1):\n",
    "        print(\"*\", end=\"  \")\n",
    "    print('')\n",
    "\n"
   ]
  },
  {
   "cell_type": "markdown",
   "id": "72e3643e-1954-4f1a-aa90-ce27af664c7f",
   "metadata": {},
   "source": [
    "b. Perulangan while yaitu perulangan yang dijalankan selama kondisi tertentu bernilai True"
   ]
  },
  {
   "cell_type": "code",
   "execution_count": 81,
   "id": "4e4ed041-80cb-4c7b-a826-d1c2cd08d5af",
   "metadata": {},
   "outputs": [
    {
     "name": "stdout",
     "output_type": "stream",
     "text": [
      "Menghitung: 5\n",
      "Menghitung: 4\n",
      "Menghitung: 3\n",
      "Menghitung: 2\n",
      "Menghitung: 1\n"
     ]
    }
   ],
   "source": [
    "# Menggunakan while loop\n",
    "count = 5\n",
    "while count > 0:\n",
    "    print(f\"Menghitung: {count}\")\n",
    "    count -= 1  # Mengurangi nilai count setiap iterasi\n"
   ]
  },
  {
   "cell_type": "markdown",
   "id": "955820ae-95de-4063-af4a-030245f7597f",
   "metadata": {},
   "source": [
    "## 4. Percabangan "
   ]
  },
  {
   "cell_type": "markdown",
   "id": "e3110a10-8edd-449c-ae82-88ee88c21b24",
   "metadata": {},
   "source": [
    "Percabangan adalah struktur kontrol dalam pemrograman yang memungkinkan eksekusi blok kode tertentu berdasarkan kondisi. Dalam Python, percabangan membantu pengambilan keputusan dengan menggunakan pernyataan logika.\n",
    "\n"
   ]
  },
  {
   "cell_type": "markdown",
   "id": "3480b0ea-013e-4aab-9b53-433446c03adb",
   "metadata": {},
   "source": [
    "a. if - else untuk menjalankan satu blok kode jika kondisi benar, dan blok lainnya jika salah."
   ]
  },
  {
   "cell_type": "markdown",
   "id": "df1faef9-437f-4632-92d4-313e46966573",
   "metadata": {},
   "source": [
    "contoh : mengecek bilangan genap atau ganjil"
   ]
  },
  {
   "cell_type": "code",
   "execution_count": 89,
   "id": "5c192a10-16c0-4fd4-a1bd-2e3fc42b5126",
   "metadata": {},
   "outputs": [
    {
     "name": "stdin",
     "output_type": "stream",
     "text": [
      "Masukkan sebuah bilangan:  3\n"
     ]
    },
    {
     "name": "stdout",
     "output_type": "stream",
     "text": [
      "Bilangan ganjil\n"
     ]
    }
   ],
   "source": [
    "angka = int(input(\"Masukkan sebuah bilangan: \"))\n",
    "if angka % 2 == 0:\n",
    "    print(\"Bilangan genap\")\n",
    "else:\n",
    "    print(\"Bilangan ganjil\")\n"
   ]
  },
  {
   "cell_type": "markdown",
   "id": "03b061f4-5cf6-4f6b-b22d-35b2d06e9d3d",
   "metadata": {},
   "source": [
    "b. if - else - elif untuk memeriksa di beberapa kondisi,jika kondisi pertama salah, akan memeriksa kondisi berikutnya."
   ]
  },
  {
   "cell_type": "code",
   "execution_count": 92,
   "id": "cffcc6e6-efd5-475e-9124-dcc96fd1f3f9",
   "metadata": {},
   "outputs": [
    {
     "name": "stdin",
     "output_type": "stream",
     "text": [
      "Masukkan usia Anda:  19\n"
     ]
    },
    {
     "name": "stdout",
     "output_type": "stream",
     "text": [
      "Anda adalah dewasa\n"
     ]
    }
   ],
   "source": [
    "usia = int(input(\"Masukkan usia Anda: \"))\n",
    "if usia < 13:\n",
    "    print(\"Anda adalah anak-anak\")\n",
    "elif usia < 18:\n",
    "    print(\"Anda adalah remaja\")\n",
    "else:\n",
    "    print(\"Anda adalah dewasa\")\n"
   ]
  },
  {
   "cell_type": "markdown",
   "id": "0f6c32a1-5bce-432a-81e1-1d36243a51c7",
   "metadata": {},
   "source": [
    "contoh lainnya : "
   ]
  },
  {
   "cell_type": "code",
   "execution_count": 95,
   "id": "9be3cd94-37a6-4b52-bc65-4bb54c0f6037",
   "metadata": {},
   "outputs": [
    {
     "name": "stdin",
     "output_type": "stream",
     "text": [
      "masukkan nilai x: 6\n",
      "masukkan nilai y: 9\n"
     ]
    },
    {
     "name": "stdout",
     "output_type": "stream",
     "text": [
      "bilangan y lebih besar dari pada bilangan x\n"
     ]
    }
   ],
   "source": [
    "bilangan_x=int(input(\"masukkan nilai x:\"))\n",
    "bilangan_y=int(input(\"masukkan nilai y:\"))\n",
    "if bilangan_x>bilangan_y:\n",
    "    print(\"bilangan x lebih besar dari pada bilangan y\")\n",
    "else :\n",
    "    print(\"bilangan y lebih besar dari pada bilangan x\")"
   ]
  },
  {
   "cell_type": "code",
   "execution_count": 99,
   "id": "ca71cdee-bbb8-4f5c-af8d-835cd1b3a4bf",
   "metadata": {},
   "outputs": [
    {
     "name": "stdin",
     "output_type": "stream",
     "text": [
      "masukkan nilai: 89\n"
     ]
    },
    {
     "name": "stdout",
     "output_type": "stream",
     "text": [
      "grade B+\n",
      "Nilai kamu adalah 89\n"
     ]
    }
   ],
   "source": [
    "nilai=int(input(\"masukkan nilai:\"))\n",
    "if nilai>=90:\n",
    "    print(\"grade A\")\n",
    "elif nilai>=80:\n",
    "    print(\"grade B+\")\n",
    "elif nilai>=70:\n",
    "    print(\"grade B\")\n",
    "elif nilai>=60:\n",
    "    print(\"grade C+\")\n",
    "print(\"Nilai kamu adalah\", nilai)"
   ]
  },
  {
   "cell_type": "code",
   "execution_count": null,
   "id": "596c47f5-80d4-4aa3-9646-ddccdbab0aa1",
   "metadata": {},
   "outputs": [
    {
     "name": "stdin",
     "output_type": "stream",
     "text": [
      "masukkan usia: 20\n",
      "masukkan tinggi: 167\n"
     ]
    },
    {
     "name": "stdout",
     "output_type": "stream",
     "text": [
      "Tahnia, anda bowle naik kora kora\n",
      "\n",
      "\n"
     ]
    },
    {
     "name": "stdin",
     "output_type": "stream",
     "text": [
      "jumlah pembelian tiket: 5\n"
     ]
    }
   ],
   "source": []
  },
  {
   "cell_type": "code",
   "execution_count": null,
   "id": "8d67dc3b-18e0-4364-bcda-e82b1b3c9e35",
   "metadata": {},
   "outputs": [],
   "source": []
  }
 ],
 "metadata": {
  "kernelspec": {
   "display_name": "Python 3 (ipykernel)",
   "language": "python",
   "name": "python3"
  },
  "language_info": {
   "codemirror_mode": {
    "name": "ipython",
    "version": 3
   },
   "file_extension": ".py",
   "mimetype": "text/x-python",
   "name": "python",
   "nbconvert_exporter": "python",
   "pygments_lexer": "ipython3",
   "version": "3.12.4"
  }
 },
 "nbformat": 4,
 "nbformat_minor": 5
}
